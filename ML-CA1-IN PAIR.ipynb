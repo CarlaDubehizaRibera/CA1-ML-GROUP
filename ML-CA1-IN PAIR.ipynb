{
 "cells": [
  {
   "cell_type": "markdown",
   "id": "c278cad8",
   "metadata": {},
   "source": [
    "# CA 1 MACHINE LEARNING\n",
    "- RICHARD GONZALES\n",
    "- CARLA RIBERA"
   ]
  },
  {
   "cell_type": "markdown",
   "id": "4d7567c7",
   "metadata": {},
   "source": [
    "CA: What are the most important features for predicting X as a target variable? STUDENT: we have to find the best co-related feature and target, and explain why it is the best choice\n",
    "\n",
    "CA: Which classification approach do you prefer for the prediction of X as a target variable, and why? STUDENT: explain why we choice a classification algorithm instead of another\n",
    "\n",
    "CA: How to classify the loyal and churn customers using Support Vector Machines STUDENT: we have to explain how we will classify our dataset using SVM algorithm method or another one that fit our dataset\n",
    "\n",
    "CA: Why is dimensionality reduction important in machine learning? STUDENT: made similar questions to our project"
   ]
  },
  {
   "cell_type": "markdown",
   "id": "0a28270e",
   "metadata": {},
   "source": [
    "# Crime Analysis in Dublin from 2003-Q1 to 2023-Q2"
   ]
  },
  {
   "cell_type": "markdown",
   "id": "46ec1a0a",
   "metadata": {},
   "source": [
    "# Quickly Data Analysis"
   ]
  },
  {
   "cell_type": "code",
   "execution_count": 1,
   "id": "e01c9adb",
   "metadata": {},
   "outputs": [],
   "source": [
    "import pandas as pd"
   ]
  },
  {
   "cell_type": "code",
   "execution_count": null,
   "id": "9435e256",
   "metadata": {},
   "outputs": [],
   "source": [
    "#importing dataset\n",
    "dataframe = pd.read_csv(\"CJQ06.20231129T081106.csv\")\n",
    "# Central Statistics Office\n",
    "# CJQ06 - Recorded crime incidents (Under Reservation)\n",
    "# https://data.cso.ie/table/CJQ06\n",
    "# Last Updated: 25/09/2023 11:00:00"
   ]
  },
  {
   "cell_type": "code",
   "execution_count": null,
   "id": "0d0e6ab9",
   "metadata": {},
   "outputs": [],
   "source": []
  },
  {
   "cell_type": "code",
   "execution_count": null,
   "id": "edd6a4ad",
   "metadata": {},
   "outputs": [],
   "source": []
  },
  {
   "cell_type": "code",
   "execution_count": null,
   "id": "4d25de57",
   "metadata": {},
   "outputs": [],
   "source": []
  },
  {
   "cell_type": "code",
   "execution_count": null,
   "id": "43d73658",
   "metadata": {},
   "outputs": [],
   "source": []
  }
 ],
 "metadata": {
  "kernelspec": {
   "display_name": "Python 3 (ipykernel)",
   "language": "python",
   "name": "python3"
  },
  "language_info": {
   "codemirror_mode": {
    "name": "ipython",
    "version": 3
   },
   "file_extension": ".py",
   "mimetype": "text/x-python",
   "name": "python",
   "nbconvert_exporter": "python",
   "pygments_lexer": "ipython3",
   "version": "3.11.4"
  }
 },
 "nbformat": 4,
 "nbformat_minor": 5
}
